{
 "cells": [
  {
   "cell_type": "code",
   "execution_count": 1,
   "metadata": {},
   "outputs": [],
   "source": [
    "import pandas as pd\n",
    "import sklearn\n",
    "from sklearn.model_selection import train_test_split\n",
    "from sklearn import preprocessing\n",
    "from sklearn.metrics import confusion_matrix\n",
    "from sklearn.metrics import accuracy_score\n",
    "from sklearn.metrics import classification_report\n",
    "from sklearn.model_selection import KFold\n",
    "from sklearn.tree import DecisionTreeClassifier\n",
    "from sklearn.model_selection import cross_validate\n",
    "from sklearn.neural_network import MLPClassifier\n",
    "from sklearn.neighbors import KNeighborsClassifier\n",
    "from sklearn.ensemble import RandomForestClassifier\n",
    "from sklearn import svm , preprocessing\n",
    "from sklearn.ensemble import AdaBoostClassifier\n",
    "from sklearn.linear_model import LogisticRegression\n",
    "from sklearn.ensemble import GradientBoostingClassifier\n",
    "from xgboost import XGBClassifier\n",
    "from sklearn.ensemble import GradientBoostingClassifier\n",
    "from sklearn.experimental import enable_hist_gradient_boosting\n",
    "from sklearn.ensemble import HistGradientBoostingClassifier\n",
    "from lightgbm import LGBMClassifier\n",
    "from catboost import CatBoostClassifier"
   ]
  },
  {
   "cell_type": "code",
   "execution_count": 2,
   "metadata": {},
   "outputs": [],
   "source": [
    "def mean_score(scoring):\n",
    "    return {i:j.mean() for i,j in scoring.items()}"
   ]
  },
  {
   "cell_type": "markdown",
   "metadata": {},
   "source": [
    "# Loading data.\n",
    "- Load data and shuffle it with specific seeding."
   ]
  },
  {
   "cell_type": "code",
   "execution_count": 13,
   "metadata": {},
   "outputs": [
    {
     "data": {
      "text/html": [
       "<div>\n",
       "<style scoped>\n",
       "    .dataframe tbody tr th:only-of-type {\n",
       "        vertical-align: middle;\n",
       "    }\n",
       "\n",
       "    .dataframe tbody tr th {\n",
       "        vertical-align: top;\n",
       "    }\n",
       "\n",
       "    .dataframe thead th {\n",
       "        text-align: right;\n",
       "    }\n",
       "</style>\n",
       "<table border=\"1\" class=\"dataframe\">\n",
       "  <thead>\n",
       "    <tr style=\"text-align: right;\">\n",
       "      <th></th>\n",
       "      <th>having_IPhaving_IP_Address</th>\n",
       "      <th>URLURL_Length</th>\n",
       "      <th>Shortining_Service</th>\n",
       "      <th>having_At_Symbol</th>\n",
       "      <th>double_slash_redirecting</th>\n",
       "      <th>Prefix_Suffix</th>\n",
       "      <th>having_Sub_Domain</th>\n",
       "      <th>SSLfinal_State</th>\n",
       "      <th>Domain_registeration_length</th>\n",
       "      <th>Favicon</th>\n",
       "      <th>...</th>\n",
       "      <th>popUpWidnow</th>\n",
       "      <th>Iframe</th>\n",
       "      <th>age_of_domain</th>\n",
       "      <th>DNSRecord</th>\n",
       "      <th>web_traffic</th>\n",
       "      <th>Page_Rank</th>\n",
       "      <th>Google_Index</th>\n",
       "      <th>Links_pointing_to_page</th>\n",
       "      <th>Statistical_report</th>\n",
       "      <th>Result</th>\n",
       "    </tr>\n",
       "    <tr>\n",
       "      <th>index</th>\n",
       "      <th></th>\n",
       "      <th></th>\n",
       "      <th></th>\n",
       "      <th></th>\n",
       "      <th></th>\n",
       "      <th></th>\n",
       "      <th></th>\n",
       "      <th></th>\n",
       "      <th></th>\n",
       "      <th></th>\n",
       "      <th></th>\n",
       "      <th></th>\n",
       "      <th></th>\n",
       "      <th></th>\n",
       "      <th></th>\n",
       "      <th></th>\n",
       "      <th></th>\n",
       "      <th></th>\n",
       "      <th></th>\n",
       "      <th></th>\n",
       "      <th></th>\n",
       "    </tr>\n",
       "  </thead>\n",
       "  <tbody>\n",
       "    <tr>\n",
       "      <th>2012</th>\n",
       "      <td>1</td>\n",
       "      <td>-1</td>\n",
       "      <td>1</td>\n",
       "      <td>1</td>\n",
       "      <td>1</td>\n",
       "      <td>-1</td>\n",
       "      <td>0</td>\n",
       "      <td>-1</td>\n",
       "      <td>1</td>\n",
       "      <td>1</td>\n",
       "      <td>...</td>\n",
       "      <td>1</td>\n",
       "      <td>1</td>\n",
       "      <td>-1</td>\n",
       "      <td>-1</td>\n",
       "      <td>-1</td>\n",
       "      <td>-1</td>\n",
       "      <td>-1</td>\n",
       "      <td>1</td>\n",
       "      <td>1</td>\n",
       "      <td>-1</td>\n",
       "    </tr>\n",
       "    <tr>\n",
       "      <th>7529</th>\n",
       "      <td>1</td>\n",
       "      <td>-1</td>\n",
       "      <td>1</td>\n",
       "      <td>1</td>\n",
       "      <td>1</td>\n",
       "      <td>-1</td>\n",
       "      <td>0</td>\n",
       "      <td>-1</td>\n",
       "      <td>1</td>\n",
       "      <td>1</td>\n",
       "      <td>...</td>\n",
       "      <td>1</td>\n",
       "      <td>1</td>\n",
       "      <td>-1</td>\n",
       "      <td>1</td>\n",
       "      <td>-1</td>\n",
       "      <td>-1</td>\n",
       "      <td>1</td>\n",
       "      <td>0</td>\n",
       "      <td>1</td>\n",
       "      <td>-1</td>\n",
       "    </tr>\n",
       "    <tr>\n",
       "      <th>3338</th>\n",
       "      <td>1</td>\n",
       "      <td>1</td>\n",
       "      <td>1</td>\n",
       "      <td>-1</td>\n",
       "      <td>1</td>\n",
       "      <td>-1</td>\n",
       "      <td>0</td>\n",
       "      <td>0</td>\n",
       "      <td>-1</td>\n",
       "      <td>1</td>\n",
       "      <td>...</td>\n",
       "      <td>1</td>\n",
       "      <td>1</td>\n",
       "      <td>1</td>\n",
       "      <td>1</td>\n",
       "      <td>-1</td>\n",
       "      <td>-1</td>\n",
       "      <td>1</td>\n",
       "      <td>0</td>\n",
       "      <td>1</td>\n",
       "      <td>-1</td>\n",
       "    </tr>\n",
       "    <tr>\n",
       "      <th>4448</th>\n",
       "      <td>-1</td>\n",
       "      <td>-1</td>\n",
       "      <td>-1</td>\n",
       "      <td>1</td>\n",
       "      <td>-1</td>\n",
       "      <td>1</td>\n",
       "      <td>-1</td>\n",
       "      <td>1</td>\n",
       "      <td>-1</td>\n",
       "      <td>1</td>\n",
       "      <td>...</td>\n",
       "      <td>1</td>\n",
       "      <td>1</td>\n",
       "      <td>-1</td>\n",
       "      <td>-1</td>\n",
       "      <td>1</td>\n",
       "      <td>-1</td>\n",
       "      <td>1</td>\n",
       "      <td>1</td>\n",
       "      <td>1</td>\n",
       "      <td>1</td>\n",
       "    </tr>\n",
       "    <tr>\n",
       "      <th>10550</th>\n",
       "      <td>1</td>\n",
       "      <td>-1</td>\n",
       "      <td>1</td>\n",
       "      <td>1</td>\n",
       "      <td>1</td>\n",
       "      <td>-1</td>\n",
       "      <td>1</td>\n",
       "      <td>1</td>\n",
       "      <td>1</td>\n",
       "      <td>1</td>\n",
       "      <td>...</td>\n",
       "      <td>1</td>\n",
       "      <td>1</td>\n",
       "      <td>1</td>\n",
       "      <td>1</td>\n",
       "      <td>-1</td>\n",
       "      <td>-1</td>\n",
       "      <td>-1</td>\n",
       "      <td>0</td>\n",
       "      <td>1</td>\n",
       "      <td>1</td>\n",
       "    </tr>\n",
       "  </tbody>\n",
       "</table>\n",
       "<p>5 rows × 31 columns</p>\n",
       "</div>"
      ],
      "text/plain": [
       "       having_IPhaving_IP_Address  URLURL_Length  Shortining_Service  \\\n",
       "index                                                                  \n",
       "2012                            1             -1                   1   \n",
       "7529                            1             -1                   1   \n",
       "3338                            1              1                   1   \n",
       "4448                           -1             -1                  -1   \n",
       "10550                           1             -1                   1   \n",
       "\n",
       "       having_At_Symbol  double_slash_redirecting  Prefix_Suffix  \\\n",
       "index                                                              \n",
       "2012                  1                         1             -1   \n",
       "7529                  1                         1             -1   \n",
       "3338                 -1                         1             -1   \n",
       "4448                  1                        -1              1   \n",
       "10550                 1                         1             -1   \n",
       "\n",
       "       having_Sub_Domain  SSLfinal_State  Domain_registeration_length  \\\n",
       "index                                                                   \n",
       "2012                   0              -1                            1   \n",
       "7529                   0              -1                            1   \n",
       "3338                   0               0                           -1   \n",
       "4448                  -1               1                           -1   \n",
       "10550                  1               1                            1   \n",
       "\n",
       "       Favicon  ...  popUpWidnow  Iframe  age_of_domain  DNSRecord  \\\n",
       "index           ...                                                  \n",
       "2012         1  ...            1       1             -1         -1   \n",
       "7529         1  ...            1       1             -1          1   \n",
       "3338         1  ...            1       1              1          1   \n",
       "4448         1  ...            1       1             -1         -1   \n",
       "10550        1  ...            1       1              1          1   \n",
       "\n",
       "       web_traffic  Page_Rank  Google_Index  Links_pointing_to_page  \\\n",
       "index                                                                 \n",
       "2012            -1         -1            -1                       1   \n",
       "7529            -1         -1             1                       0   \n",
       "3338            -1         -1             1                       0   \n",
       "4448             1         -1             1                       1   \n",
       "10550           -1         -1            -1                       0   \n",
       "\n",
       "       Statistical_report  Result  \n",
       "index                              \n",
       "2012                    1      -1  \n",
       "7529                    1      -1  \n",
       "3338                    1      -1  \n",
       "4448                    1       1  \n",
       "10550                   1       1  \n",
       "\n",
       "[5 rows x 31 columns]"
      ]
     },
     "execution_count": 13,
     "metadata": {},
     "output_type": "execute_result"
    }
   ],
   "source": [
    "df = pd.read_csv(\"dataset.csv\",index_col=0)\n",
    "df = sklearn.utils.shuffle(df)\n",
    "X = df.drop(\"Result\",axis=1).values\n",
    "X = preprocessing.scale(X)\n",
    "y = df['Result'].values\n",
    "df.head()\n"
   ]
  },
  {
   "cell_type": "markdown",
   "metadata": {},
   "source": [
    "# Evalution metrics \n",
    " - Specifying evaluation metrics for classification models\n",
    " - Using 10 fold-cross-validation for evaluting "
   ]
  },
  {
   "cell_type": "code",
   "execution_count": 3,
   "metadata": {},
   "outputs": [],
   "source": [
    "scoring = {'accuracy': 'accuracy',\n",
    "           'recall': 'recall',\n",
    "           'precision': 'precision',\n",
    "           'f1': 'f1'}\n",
    "fold_count=10"
   ]
  },
  {
   "cell_type": "markdown",
   "metadata": {},
   "source": [
    "# Classication models for phishing detection:"
   ]
  },
  {
   "cell_type": "markdown",
   "metadata": {},
   "source": [
    "### Descision Tree\n"
   ]
  },
  {
   "cell_type": "code",
   "execution_count": 47,
   "metadata": {},
   "outputs": [
    {
     "name": "stdout",
     "output_type": "stream",
     "text": [
      "{'fit_time': 0.02145226001739502, 'score_time': 0.0037374973297119142, 'test_accuracy': 0.9659887246037655, 'test_recall': 0.9714145813536058, 'test_precision': 0.9676815772041456, 'test_f1': 0.9695318553822136}\n"
     ]
    }
   ],
   "source": [
    "dtree_clf=DecisionTreeClassifier()\n",
    "cross_val_scores = cross_validate(dtree_clf, X, y, cv=fold_count, scoring=scoring)\n",
    "dtree_score = mean_score(cross_val_scores)\n",
    "print(dtree_score)"
   ]
  },
  {
   "cell_type": "markdown",
   "metadata": {},
   "source": [
    "### Random Forest"
   ]
  },
  {
   "cell_type": "code",
   "execution_count": 32,
   "metadata": {},
   "outputs": [
    {
     "name": "stdout",
     "output_type": "stream",
     "text": [
      "{'fit_time': 0.4361262321472168, 'score_time': 0.021941876411437987, 'test_accuracy': 0.9726827751548527, 'test_recall': 0.9814847956921128, 'test_precision': 0.9698521059240438, 'test_f1': 0.9756226033690053}\n"
     ]
    }
   ],
   "source": [
    "rforest_clf=RandomForestClassifier()\n",
    "cross_val_scores = cross_validate(rforest_clf, X, y, cv=fold_count, scoring=scoring)\n",
    "rforest_clf_score = mean_score(cross_val_scores)\n",
    "print(rforest_clf_score)"
   ]
  },
  {
   "cell_type": "markdown",
   "metadata": {},
   "source": [
    " ### Ada_Booster"
   ]
  },
  {
   "cell_type": "code",
   "execution_count": 33,
   "metadata": {},
   "outputs": [
    {
     "name": "stdout",
     "output_type": "stream",
     "text": [
      "{'fit_time': 0.33651931285858155, 'score_time': 0.016766834259033202, 'test_accuracy': 0.9369532701103811, 'test_recall': 0.9543622637525075, 'test_precision': 0.9339432018487536, 'test_f1': 0.9440090232748538}\n"
     ]
    }
   ],
   "source": [
    "adaboost_clf=AdaBoostClassifier()\n",
    "cross_val_scores = cross_validate(adaboost_clf, X, y, cv=fold_count, scoring=scoring)\n",
    "adaboost_clf_score = mean_score(cross_val_scores)\n",
    "print(adaboost_clf_score)"
   ]
  },
  {
   "cell_type": "markdown",
   "metadata": {},
   "source": [
    "### Gradient Boosting With XGBoost"
   ]
  },
  {
   "cell_type": "code",
   "execution_count": 34,
   "metadata": {},
   "outputs": [
    {
     "name": "stdout",
     "output_type": "stream",
     "text": [
      "{'fit_time': 0.5060725927352905, 'score_time': 0.0062372684478759766, 'test_accuracy': 0.9712358750705734, 'test_recall': 0.9790470911202618, 'test_precision': 0.9696243951193955, 'test_f1': 0.9742930356745975}\n"
     ]
    }
   ],
   "source": [
    "XGB_clf=XGBClassifier()\n",
    "cross_val_scores = cross_validate(XGB_clf, X, y, cv=fold_count, scoring=scoring)\n",
    "XGB_clf_score= mean_score(cross_val_scores)\n",
    "print(XGB_clf_score)"
   ]
  },
  {
   "cell_type": "markdown",
   "metadata": {},
   "source": [
    "### Gradient_Booster"
   ]
  },
  {
   "cell_type": "code",
   "execution_count": 35,
   "metadata": {},
   "outputs": [
    {
     "name": "stdout",
     "output_type": "stream",
     "text": [
      "{'fit_time': 0.8918887376785278, 'score_time': 0.0052986621856689455, 'test_accuracy': 0.9486214232528454, 'test_recall': 0.9624812585788195, 'test_precision': 0.9462347462776315, 'test_f1': 0.9542607542640835}\n"
     ]
    }
   ],
   "source": [
    "gradientBooster_clf=GradientBoostingClassifier()\n",
    "cross_val_scores = cross_validate(gradientBooster_clf,X, y, cv=fold_count, scoring=scoring)\n",
    "gradientBooster_clf_score= mean_score(cross_val_scores)\n",
    "print(gradientBooster_clf_score)"
   ]
  },
  {
   "cell_type": "markdown",
   "metadata": {},
   "source": [
    "### Histogram-Based Gradient Boosting"
   ]
  },
  {
   "cell_type": "code",
   "execution_count": 36,
   "metadata": {},
   "outputs": [
    {
     "name": "stdout",
     "output_type": "stream",
     "text": [
      "{'fit_time': 0.5056329250335694, 'score_time': 0.005911087989807129, 'test_accuracy': 0.9686116043301449, 'test_recall': 0.9766107063668039, 'test_precision': 0.9673711778832252, 'test_f1': 0.9719463292594973}\n"
     ]
    }
   ],
   "source": [
    "histGradientBooster_clf = HistGradientBoostingClassifier()\n",
    "cross_val_scores = cross_validate(histGradientBooster_clf,X, y, cv=fold_count, scoring=scoring)\n",
    "histGradientBooster_clf_score= mean_score(cross_val_scores)\n",
    "print(histGradientBooster_clf_score)"
   ]
  },
  {
   "cell_type": "markdown",
   "metadata": {},
   "source": [
    "### LightGBM for Classification"
   ]
  },
  {
   "cell_type": "code",
   "execution_count": 37,
   "metadata": {},
   "outputs": [
    {
     "name": "stdout",
     "output_type": "stream",
     "text": [
      "{'fit_time': 0.281274151802063, 'score_time': 0.004857301712036133, 'test_accuracy': 0.9685211065925884, 'test_recall': 0.9767733079928202, 'test_precision': 0.9670633398533888, 'test_f1': 0.9718731387465702}\n"
     ]
    }
   ],
   "source": [
    "LGBM_clf = LGBMClassifier()\n",
    "cross_val_scores = cross_validate(LGBM_clf,X, y, cv=fold_count, scoring=scoring)\n",
    "LGBM_clf_score= mean_score(cross_val_scores)\n",
    "print(LGBM_clf_score)"
   ]
  },
  {
   "cell_type": "markdown",
   "metadata": {},
   "source": [
    " ### Gradient Boosting with CatBoost"
   ]
  },
  {
   "cell_type": "code",
   "execution_count": 43,
   "metadata": {},
   "outputs": [
    {
     "name": "stdout",
     "output_type": "stream",
     "text": [
      "{'fit_time': 0.4080570936203003, 'score_time': 0.01025078296661377, 'test_accuracy': 0.9715968023041739, 'test_recall': 0.9805083940449792, 'test_precision': 0.9688890089359475, 'test_f1': 0.9746458794259351}\n"
     ]
    }
   ],
   "source": [
    "catBoost_classifier = CatBoostClassifier(verbose=0, n_estimators=100)\n",
    "cross_val_scores = cross_validate(catBoost_classifier,X, y, cv=fold_count, scoring=scoring)\n",
    "catBoost_classifier_score= mean_score(cross_val_scores)\n",
    "print(catBoost_classifier_score)"
   ]
  },
  {
   "cell_type": "markdown",
   "metadata": {},
   "source": [
    "### KNN"
   ]
  },
  {
   "cell_type": "code",
   "execution_count": 39,
   "metadata": {},
   "outputs": [
    {
     "name": "stdout",
     "output_type": "stream",
     "text": [
      "{'fit_time': 0.11297237873077393, 'score_time': 0.3535628795623779, 'test_accuracy': 0.9527809643818579, 'test_recall': 0.9629682715658324, 'test_precision': 0.9527832046787947, 'test_f1': 0.95782786394066}\n"
     ]
    }
   ],
   "source": [
    "KNeighbors_clf=KNeighborsClassifier(3)\n",
    "cross_val_scores = cross_validate(KNeighbors_clf, X, y, cv=fold_count, scoring=scoring)\n",
    "KNeighbors_clf_score = mean_score(cross_val_scores)\n",
    "print(KNeighbors_clf_score)"
   ]
  },
  {
   "cell_type": "markdown",
   "metadata": {},
   "source": [
    "### Logistic Regrression"
   ]
  },
  {
   "cell_type": "code",
   "execution_count": 40,
   "metadata": {},
   "outputs": [
    {
     "name": "stdout",
     "output_type": "stream",
     "text": [
      "{'fit_time': 0.08097140789031983, 'score_time': 0.006414532661437988, 'test_accuracy': 0.9265502851578802, 'test_recall': 0.9439684299440397, 'test_precision': 0.9257009824145145, 'test_f1': 0.9347047945148483}\n"
     ]
    }
   ],
   "source": [
    "logistic_clf=LogisticRegression(random_state=1)\n",
    "cross_val_scores = cross_validate(logistic_clf, X, y, cv=fold_count, scoring=scoring)\n",
    "logistic_clf_score = mean_score(cross_val_scores)\n",
    "print(logistic_clf_score)"
   ]
  },
  {
   "cell_type": "markdown",
   "metadata": {},
   "source": [
    "### NN"
   ]
  },
  {
   "cell_type": "code",
   "execution_count": 41,
   "metadata": {},
   "outputs": [
    {
     "name": "stdout",
     "output_type": "stream",
     "text": [
      "{'fit_time': 9.0885178565979, 'score_time': 0.006925249099731445, 'test_accuracy': 0.9698791454264276, 'test_recall': 0.9787234716503009, 'test_precision': 0.9676053403687239, 'test_f1': 0.9731127503135303}\n"
     ]
    }
   ],
   "source": [
    "neural_clf=MLPClassifier(hidden_layer_sizes=(33,),max_iter=500)\n",
    "cross_val_scores = cross_validate(neural_clf, X, y, cv=fold_count, scoring=scoring)\n",
    "neural_clf_score = mean_score(cross_val_scores)\n",
    "print(neural_clf_score)"
   ]
  },
  {
   "cell_type": "markdown",
   "metadata": {},
   "source": [
    "### SVM"
   ]
  },
  {
   "cell_type": "code",
   "execution_count": 42,
   "metadata": {},
   "outputs": [
    {
     "name": "stdout",
     "output_type": "stream",
     "text": [
      "{'fit_time': 1.6475388288497925, 'score_time': 0.05397987365722656, 'test_accuracy': 0.9277262647999803, 'test_recall': 0.945592070531095, 'test_precision': 0.9262681624188114, 'test_f1': 0.9357793221750376}\n",
      "{'fit_time': 1.0482579469680786, 'score_time': 0.07420728206634522, 'test_accuracy': 0.9492547437670297, 'test_recall': 0.9688163868651675, 'test_precision': 0.9417793952178888, 'test_f1': 0.9550833558973665}\n",
      "{'fit_time': 1.3415402889251709, 'score_time': 0.1033292531967163, 'test_accuracy': 0.9521492803547904, 'test_recall': 0.968815331010453, 'test_precision': 0.9465803137802874, 'test_f1': 0.9575433423537307}\n",
      "{'fit_time': 1.3446074724197388, 'score_time': 0.109696364402771, 'test_accuracy': 0.8274983021446165, 'test_recall': 0.8465151515151514, 'test_precision': 0.8443119026086775, 'test_f1': 0.8453050000657976}\n"
     ]
    }
   ],
   "source": [
    "###linear\n",
    "linear_clf = svm.SVC(kernel='linear')\n",
    "cross_val_scores = cross_validate(linear_clf, X, y, cv=fold_count, scoring=scoring)\n",
    "linear_svc_clf_score = mean_score(cross_val_scores)\n",
    "print(linear_svc_clf_score)\n",
    "###poly\n",
    "poly_clf = svm.SVC(kernel='poly')\n",
    "cross_val_scores = cross_validate(poly_clf, X, y, cv=fold_count, scoring=scoring)\n",
    "poly_svc_clf_score = mean_score(cross_val_scores)\n",
    "print(poly_svc_clf_score)\n",
    "###rbf\n",
    "rbf_clf = svm.SVC(kernel='rbf')\n",
    "cross_val_scores = cross_validate(rbf_clf, X, y, cv=fold_count, scoring=scoring)\n",
    "rbf_svc_clf_score = mean_score(cross_val_scores)\n",
    "print(rbf_svc_clf_score)\n",
    "###sigmoid\n",
    "sigmoid_clf = svm.SVC(kernel='sigmoid')\n",
    "cross_val_scores = cross_validate(sigmoid_clf, X, y, cv=fold_count, scoring=scoring)\n",
    "sigmoid_svc_clf_score = mean_score(cross_val_scores)\n",
    "print(sigmoid_svc_clf_score)\n"
   ]
  },
  {
   "cell_type": "code",
   "execution_count": null,
   "metadata": {},
   "outputs": [],
   "source": []
  },
  {
   "cell_type": "code",
   "execution_count": null,
   "metadata": {},
   "outputs": [],
   "source": []
  }
 ],
 "metadata": {
  "kernelspec": {
   "display_name": "Python 3",
   "language": "python",
   "name": "python3"
  },
  "language_info": {
   "codemirror_mode": {
    "name": "ipython",
    "version": 3
   },
   "file_extension": ".py",
   "mimetype": "text/x-python",
   "name": "python",
   "nbconvert_exporter": "python",
   "pygments_lexer": "ipython3",
   "version": "3.6.9"
  }
 },
 "nbformat": 4,
 "nbformat_minor": 4
}
